{
 "cells": [
  {
   "cell_type": "code",
   "execution_count": 1,
   "metadata": {},
   "outputs": [],
   "source": [
    "__author__      = 'Yu Cao'\n",
    "\n",
    "import pandas as pd\n",
    "import numpy as np\n",
    "import collections\n",
    "from sklearn.utils import shuffle\n",
    "from sklearn.naive_bayes import GaussianNB\n",
    "from sklearn.svm import SVC\n",
    "from sklearn import tree\n",
    "from sklearn.ensemble import RandomForestClassifier\n",
    "from sklearn.metrics import precision_score, recall_score, f1_score\n"
   ]
  },
  {
   "cell_type": "code",
   "execution_count": 2,
   "metadata": {},
   "outputs": [],
   "source": [
    "def loadCorpus(corpus_path):\n",
    "    df = pd.read_csv(corpus_path)\n",
    "    df = df.fillna('')\n",
    "    df['count'] = pd.Series(\n",
    "        [ rawToCount(x) for x in df['pairs_diff'] ], \n",
    "        index = df.index\n",
    "    )\n",
    "    return shuffle(df)"
   ]
  },
  {
   "cell_type": "code",
   "execution_count": 3,
   "metadata": {},
   "outputs": [],
   "source": [
    "def rawToCount(pairs_diff):\n",
    "    pairs_diff = pairs_diff.replace('@', '')\n",
    "    tripleList = pairs_diff.split('\\t')\n",
    "    if len(tripleList) < 3: return None\n",
    "\n",
    "    count = {}\n",
    "    for triple in tripleList[:-1]:\n",
    "        triple = triple.replace(',', 'я')\n",
    "        triple = triple.replace('яя', ',я')\n",
    "        triple = triple.split('я')\n",
    "        key = '_'.join(triple[:2])\n",
    "        if (not key in count) or (count[key] < float(triple[2])):\n",
    "            count[key] = float(triple[2])\n",
    "        \n",
    "    return count"
   ]
  },
  {
   "cell_type": "code",
   "execution_count": 4,
   "metadata": {},
   "outputs": [],
   "source": [
    "def vocabBuild(countList, freqThreshold=20):\n",
    "    vocab = collections.Counter()\n",
    "    for item in countList: \n",
    "        if item is not None:\n",
    "            vocab.update(item.keys())\n",
    "\n",
    "    vocab = vocab.most_common()\n",
    "    for c, item in enumerate(vocab):\n",
    "        if item[1] < freqThreshold: break\n",
    "    \n",
    "    return [ x[0] for x in vocab[:c] ]"
   ]
  },
  {
   "cell_type": "code",
   "execution_count": 5,
   "metadata": {},
   "outputs": [],
   "source": [
    "def embed(vocab, df):\n",
    "    def process(count):\n",
    "        if count is None: return None\n",
    "        vector = np.empty(lenVocab)\n",
    "        vector.fill(-100.)\n",
    "        for key in count.keys(): \n",
    "            if key in vocab:\n",
    "                 vector[vocab.index(key)] = count[key]\n",
    "        \n",
    "        return vector\n",
    "\n",
    "    lenVocab = len(vocab)\n",
    "    df['vector'] = pd.Series(\n",
    "        [ process(x) for x in df['count'] ],\n",
    "        index=df.index\n",
    "    )"
   ]
  },
  {
   "cell_type": "code",
   "execution_count": 6,
   "metadata": {},
   "outputs": [],
   "source": [
    "def modelTrain(df):\n",
    "    modelList = [\n",
    "        GaussianNB(),\n",
    "        SVC(),\n",
    "        tree.DecisionTreeClassifier(),\n",
    "        RandomForestClassifier()\n",
    "    ]\n",
    "    tlist = [(v, l) for (v, l) in zip(df['vector'], df['label']) \n",
    "    if v is not None]\n",
    "    X = [v for (v, l) in tlist]\n",
    "    y = [l for (v, l) in tlist]\n",
    "\n",
    "    for model in modelList:\n",
    "        model.fit(X, y)\n",
    "    \n",
    "    return modelList"
   ]
  },
  {
   "cell_type": "code",
   "execution_count": 7,
   "metadata": {},
   "outputs": [],
   "source": [
    "def evalModels(df, modelList):\n",
    "    tlist = [(v, l) for (v, l) in zip(df['vector'], df['label']) \n",
    "    if v is not None]\n",
    "    X = [v for (v, l) in tlist]\n",
    "    y = [l for (v, l) in tlist]\n",
    "\n",
    "    for model in modelList:\n",
    "        y_pred = model.predict(X)\n",
    "        print(\n",
    "            '\\n*** %s ***\\n' % str(model)[:str(model).find('(')],\n",
    "            'Prec ' + str(precision_score(y, y_pred)),\n",
    "            'Reca ' + str(recall_score(y, y_pred)),\n",
    "            'F1 ' + str(f1_score(y, y_pred)),\n",
    "        )"
   ]
  },
  {
   "cell_type": "code",
   "execution_count": 8,
   "metadata": {},
   "outputs": [
    {
     "name": "stdout",
     "output_type": "stream",
     "text": [
      "\n",
      "*** GaussianNB ***\n",
      " Prec 0.5374094931617055 Reca 0.801920768307323 F1 0.6435452793834295\n",
      "\n",
      "*** SVC ***\n",
      " Prec 0.5108418367346939 Reca 0.9615846338535414 F1 0.6672219908371512\n",
      "\n",
      "*** DecisionTreeClassifier ***\n",
      " Prec 0.5423623995052567 Reca 0.5264105642256903 F1 0.534267438318611\n",
      "\n",
      "*** RandomForestClassifier ***\n",
      " Prec 0.5625909752547307 Reca 0.4639855942376951 F1 0.5085526315789474\n"
     ]
    }
   ],
   "source": [
    "'''\n",
    "main\n",
    "'''\n",
    "trainSet = loadCorpus('train.csv')\n",
    "testSet = loadCorpus('test.csv')\n",
    "vocab = vocabBuild(trainSet['count'])\n",
    "\n",
    "embed(vocab, trainSet)\n",
    "embed(vocab, testSet)\n",
    "modelList = modelTrain(trainSet)\n",
    "evalModels(testSet, modelList)"
   ]
  },
  {
   "cell_type": "code",
   "execution_count": null,
   "metadata": {},
   "outputs": [],
   "source": []
  }
 ],
 "metadata": {
  "kernelspec": {
   "display_name": "Python 3",
   "language": "python",
   "name": "python3"
  },
  "language_info": {
   "codemirror_mode": {
    "name": "ipython",
    "version": 3
   },
   "file_extension": ".py",
   "mimetype": "text/x-python",
   "name": "python",
   "nbconvert_exporter": "python",
   "pygments_lexer": "ipython3",
   "version": "3.6.4"
  }
 },
 "nbformat": 4,
 "nbformat_minor": 2
}
