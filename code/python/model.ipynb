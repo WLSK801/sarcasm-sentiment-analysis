{
 "cells": [
  {
   "cell_type": "code",
   "execution_count": 7,
   "metadata": {
    "collapsed": true
   },
   "outputs": [],
   "source": [
    "import csv\n",
    "import re\n",
    "import pandas as pd"
   ]
  },
  {
   "cell_type": "code",
   "execution_count": 8,
   "metadata": {
    "collapsed": true
   },
   "outputs": [],
   "source": [
    "def parse_pair(text):\n",
    "    text = re.sub(r\"\\@\", \"\", text)\n",
    "    pairs = text.split(\"\\t\")\n",
    "    pairs_list = list()\n",
    "    for pair in pairs:\n",
    "        pairs_list.append(tuple(pair.split(\",\")))\n",
    "    return pairs_list"
   ]
  },
  {
   "cell_type": "code",
   "execution_count": 9,
   "metadata": {
    "collapsed": true
   },
   "outputs": [],
   "source": [
    "pairs_list = list()\n",
    "label_list = list()\n",
    "with open('train_return_pair.csv', 'r') as csvfile:\n",
    "    csvreader = csv.reader(csvfile)\n",
    "    next(csvreader)\n",
    "    for row in csvreader:\n",
    "        label_list.append(row[1])\n",
    "        pairs_list.append(parse_pair(row[2]))"
   ]
  },
  {
   "cell_type": "code",
   "execution_count": 10,
   "metadata": {
    "collapsed": true
   },
   "outputs": [],
   "source": [
    "pair_set = set()\n",
    "for pairs in pairs_list:\n",
    "    for pair in pairs:\n",
    "        if len(pair) == 3:\n",
    "            pair_set.add((pair[0], pair[1]))"
   ]
  },
  {
   "cell_type": "code",
   "execution_count": 11,
   "metadata": {
    "collapsed": true
   },
   "outputs": [],
   "source": [
    "pair_list = list(pair_set)\n",
    "pair_dict = {}\n",
    "for i in range(len(pair_list)):\n",
    "    pair_dict[pair_list[i]] = i"
   ]
  },
  {
   "cell_type": "code",
   "execution_count": 64,
   "metadata": {},
   "outputs": [],
   "source": [
    "import numpy as np\n",
    "train_arr = np.zeros((len(pairs_list), len(pair_list)))\n",
    "train_arr.fill(-100)\n",
    "for i in range(len(pairs_list)):\n",
    "    pairs = pairs_list[i]\n",
    "    for pair in pairs:\n",
    "        if len(pair) != 3:\n",
    "            continue\n",
    "        value = float(pair[2])\n",
    "        pair_label = (pair[0], pair[1])\n",
    "        if pair_label in pair_dict:\n",
    "            train_arr[i, pair_dict[pair_label]] = value"
   ]
  },
  {
   "cell_type": "code",
   "execution_count": 65,
   "metadata": {},
   "outputs": [
    {
     "data": {
      "text/plain": [
       "'\\ntrain_df = pd.DataFrame(columns=pair_list)\\ncolumns_num = len(train_df.columns)\\nfor i in range(len(pairs_list)):\\n    pairs = pairs_list[i]\\n    row = [-1] * columns_num\\n    for pair in pairs:\\n        if len(pair) != 3:\\n            continue\\n        value = pair[2]\\n        pair_label = (pair[0], pair[1])\\n        if pair_label in pair_dict:\\n            row[pair_dict[pair_label]] = value\\n    new_df =  pd.DataFrame(columns=pair_list)\\n    new_df.loc[0] = row\\n    train_df = train_df.append(new_df)\\n    print(len(train_df))\\n    \\n'"
      ]
     },
     "execution_count": 65,
     "metadata": {},
     "output_type": "execute_result"
    }
   ],
   "source": [
    "'''\n",
    "train_df = pd.DataFrame(columns=pair_list)\n",
    "columns_num = len(train_df.columns)\n",
    "for i in range(len(pairs_list)):\n",
    "    pairs = pairs_list[i]\n",
    "    row = [-1] * columns_num\n",
    "    for pair in pairs:\n",
    "        if len(pair) != 3:\n",
    "            continue\n",
    "        value = pair[2]\n",
    "        pair_label = (pair[0], pair[1])\n",
    "        if pair_label in pair_dict:\n",
    "            row[pair_dict[pair_label]] = value\n",
    "    new_df =  pd.DataFrame(columns=pair_list)\n",
    "    new_df.loc[0] = row\n",
    "    train_df = train_df.append(new_df)\n",
    "    print(len(train_df))\n",
    "    \n",
    "'''"
   ]
  },
  {
   "cell_type": "code",
   "execution_count": 67,
   "metadata": {
    "collapsed": true
   },
   "outputs": [],
   "source": [
    "pairs_test_list = list()\n",
    "label_test_list = list()\n",
    "with open('test_return_pair.csv', 'r') as csvfile:\n",
    "    csvreader = csv.reader(csvfile)\n",
    "    next(csvreader)\n",
    "    for row in csvreader:\n",
    "        label_test_list.append(row[1])\n",
    "        pairs_test_list.append(parse_pair(row[2]))"
   ]
  },
  {
   "cell_type": "code",
   "execution_count": 68,
   "metadata": {},
   "outputs": [
    {
     "data": {
      "text/plain": [
       "'\\n\\n\\ntest_df = pd.DataFrame(columns=pair_list)\\ncolumns_num = len(test_df.columns)\\nfor i in range(len(pairs_test_list)):\\n    pairs = pairs_test_list[i]\\n    row = [-1] * columns_num\\n    for pair in pairs:\\n        if len(pair) != 3:\\n            continue\\n        value = float(pair[2])\\n        pair_label = (pair[0], pair[1])\\n        if pair_label in pair_dict:\\n            row[pair_dict[pair_label]] = value\\n    test_df.loc[i] = row\\n'"
      ]
     },
     "execution_count": 68,
     "metadata": {},
     "output_type": "execute_result"
    }
   ],
   "source": [
    "test_arr = np.zeros((len(pairs_test_list), len(pair_list)))\n",
    "test_arr.fill(-100)\n",
    "for i in range(len(pairs_test_list)):\n",
    "    pairs = pairs_test_list[i]\n",
    "    for pair in pairs:\n",
    "        if len(pair) != 3:\n",
    "            continue\n",
    "        value = float(pair[2])\n",
    "        pair_label = (pair[0], pair[1])\n",
    "        if pair_label in pair_dict:\n",
    "            test_arr[i, pair_dict[pair_label]] = value\n",
    "'''\n",
    "\n",
    "\n",
    "test_df = pd.DataFrame(columns=pair_list)\n",
    "columns_num = len(test_df.columns)\n",
    "for i in range(len(pairs_test_list)):\n",
    "    pairs = pairs_test_list[i]\n",
    "    row = [-1] * columns_num\n",
    "    for pair in pairs:\n",
    "        if len(pair) != 3:\n",
    "            continue\n",
    "        value = float(pair[2])\n",
    "        pair_label = (pair[0], pair[1])\n",
    "        if pair_label in pair_dict:\n",
    "            row[pair_dict[pair_label]] = value\n",
    "    test_df.loc[i] = row\n",
    "'''"
   ]
  },
  {
   "cell_type": "markdown",
   "metadata": {},
   "source": [
    "### Random Forest"
   ]
  },
  {
   "cell_type": "code",
   "execution_count": 73,
   "metadata": {},
   "outputs": [
    {
     "data": {
      "text/plain": [
       "0.55079271873165003"
      ]
     },
     "execution_count": 73,
     "metadata": {},
     "output_type": "execute_result"
    }
   ],
   "source": [
    "from sklearn.ensemble import RandomForestClassifier\n",
    "clf = RandomForestClassifier(max_depth=2, random_state=0)\n",
    "clf.fit(train_arr, label_list)\n",
    "y_pred = clf.predict(test_arr)\n",
    "from sklearn.metrics import accuracy_score\n",
    "accuracy_score(label_test_list, y_pred)"
   ]
  },
  {
   "cell_type": "markdown",
   "metadata": {},
   "source": [
    "### Decision Tree"
   ]
  },
  {
   "cell_type": "code",
   "execution_count": 74,
   "metadata": {},
   "outputs": [
    {
     "data": {
      "text/plain": [
       "0.53024075161479745"
      ]
     },
     "execution_count": 74,
     "metadata": {},
     "output_type": "execute_result"
    }
   ],
   "source": [
    "from sklearn import tree\n",
    "clf = tree.DecisionTreeClassifier()\n",
    "y_pred = clf.fit(train_arr, label_list).predict(test_arr)\n",
    "accuracy_score(label_test_list, y_pred)"
   ]
  },
  {
   "cell_type": "markdown",
   "metadata": {},
   "source": [
    "### Naive Bayes"
   ]
  },
  {
   "cell_type": "code",
   "execution_count": 75,
   "metadata": {},
   "outputs": [
    {
     "data": {
      "text/plain": [
       "0.50264239577216674"
      ]
     },
     "execution_count": 75,
     "metadata": {},
     "output_type": "execute_result"
    }
   ],
   "source": [
    "from sklearn.naive_bayes import GaussianNB\n",
    "gnb = GaussianNB()\n",
    "y_pred = gnb.fit(train_arr, label_list).predict(test_arr)\n",
    "accuracy_score(label_test_list, y_pred)"
   ]
  }
 ],
 "metadata": {
  "kernelspec": {
   "display_name": "Python 3",
   "language": "python",
   "name": "python3"
  },
  "language_info": {
   "codemirror_mode": {
    "name": "ipython",
    "version": 3
   },
   "file_extension": ".py",
   "mimetype": "text/x-python",
   "name": "python",
   "nbconvert_exporter": "python",
   "pygments_lexer": "ipython3",
   "version": "3.6.3"
  }
 },
 "nbformat": 4,
 "nbformat_minor": 2
}
