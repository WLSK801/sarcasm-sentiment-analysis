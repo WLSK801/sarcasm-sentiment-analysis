{
 "cells": [
  {
   "cell_type": "code",
   "execution_count": 1,
   "metadata": {
    "collapsed": true
   },
   "outputs": [],
   "source": [
    "import csv\n",
    "import re\n",
    "import pandas as pd"
   ]
  },
  {
   "cell_type": "code",
   "execution_count": 2,
   "metadata": {
    "collapsed": true
   },
   "outputs": [],
   "source": [
    "def parse_pair(text):\n",
    "    text = re.sub(r\"\\@\", \"\", text)\n",
    "    pairs = text.split(\"\\t\")\n",
    "    pairs_list = list()\n",
    "    for pair in pairs:\n",
    "        pairs_list.append(tuple(pair.split(\",\")))\n",
    "    return pairs_list"
   ]
  },
  {
   "cell_type": "code",
   "execution_count": 3,
   "metadata": {
    "collapsed": true
   },
   "outputs": [],
   "source": [
    "pairs_list = list()\n",
    "label_list = list()\n",
    "with open('train_return_pair.csv', 'r') as csvfile:\n",
    "    csvreader = csv.reader(csvfile)\n",
    "    next(csvreader)\n",
    "    for row in csvreader:\n",
    "        label_list.append(row[1])\n",
    "        pairs_list.append(parse_pair(row[2]))"
   ]
  },
  {
   "cell_type": "code",
   "execution_count": 4,
   "metadata": {
    "collapsed": true
   },
   "outputs": [],
   "source": [
    "pair_dict = {}\n",
    "for pairs in pairs_list:\n",
    "    for pair in pairs:\n",
    "        if len(pair) == 3:\n",
    "            pair_tuple = (pair[0], pair[1])\n",
    "            if pair_tuple not in pair_dict:\n",
    "                pair_dict[pair_tuple] = 1\n",
    "            else:\n",
    "                pair_dict[pair_tuple] = pair_dict[pair_tuple] + 1"
   ]
  },
  {
   "cell_type": "code",
   "execution_count": 5,
   "metadata": {
    "collapsed": true
   },
   "outputs": [],
   "source": [
    "sa_pair_dict = {}\n",
    "ns_pair_dict = {}\n",
    "for i in range(len(pairs_list)):\n",
    "    if label_list[i] == \"1\":\n",
    "        for pair in pairs_list[i]:\n",
    "            if len(pair) == 3:\n",
    "                pair_tuple = (pair[0], pair[1])\n",
    "                if pair_tuple not in sa_pair_dict:\n",
    "                    sa_pair_dict[pair_tuple] = 1\n",
    "                else:\n",
    "                    sa_pair_dict[pair_tuple] = sa_pair_dict[pair_tuple] + 1\n",
    "    else:\n",
    "        for pair in pairs_list[i]:\n",
    "            if len(pair) == 3:\n",
    "                pair_tuple = (pair[0], pair[1])\n",
    "                if pair_tuple not in ns_pair_dict:\n",
    "                    ns_pair_dict[pair_tuple] = 1\n",
    "                else:\n",
    "                    ns_pair_dict[pair_tuple] = ns_pair_dict[pair_tuple] + 1"
   ]
  },
  {
   "cell_type": "code",
   "execution_count": 6,
   "metadata": {
    "collapsed": true
   },
   "outputs": [],
   "source": [
    "import operator\n",
    "sorted_sa = sorted(sa_pair_dict.items(), key=operator.itemgetter(1))\n",
    "sorted_ns = sorted(ns_pair_dict.items(), key=operator.itemgetter(1))"
   ]
  },
  {
   "cell_type": "code",
   "execution_count": 7,
   "metadata": {
    "collapsed": true
   },
   "outputs": [],
   "source": [
    "sa_pair_sum_dict = {}\n",
    "ns_pair_sum_dict = {}\n",
    "for i in range(len(pairs_list)):\n",
    "    if label_list[i] == \"1\":\n",
    "        for pair in pairs_list[i]:\n",
    "            if len(pair) == 3:\n",
    "                pair_tuple = (pair[0], pair[1])\n",
    "                if pair_tuple not in sa_pair_sum_dict:\n",
    "                    sa_pair_sum_dict[pair_tuple] = float(pair[2])\n",
    "                else:\n",
    "                    sa_pair_sum_dict[pair_tuple] = sa_pair_sum_dict[pair_tuple] + float(pair[2])\n",
    "    else:\n",
    "        for pair in pairs_list[i]:\n",
    "            if len(pair) == 3:\n",
    "                pair_tuple = (pair[0], pair[1])\n",
    "                if pair_tuple not in ns_pair_sum_dict:\n",
    "                    ns_pair_sum_dict[pair_tuple] = float(pair[2])\n",
    "                else:\n",
    "                    ns_pair_sum_dict[pair_tuple] = ns_pair_sum_dict[pair_tuple] + float(pair[2])"
   ]
  },
  {
   "cell_type": "code",
   "execution_count": 8,
   "metadata": {
    "collapsed": true
   },
   "outputs": [],
   "source": [
    "def print_pair_diff(pair_tuple):\n",
    "    print(pair_tuple)\n",
    "    print(sa_pair_sum_dict[pair_tuple] / sa_pair_dict[pair_tuple])\n",
    "    print(ns_pair_sum_dict[pair_tuple] / ns_pair_dict[pair_tuple])"
   ]
  },
  {
   "cell_type": "code",
   "execution_count": 9,
   "metadata": {},
   "outputs": [
    {
     "name": "stdout",
     "output_type": "stream",
     "text": [
      "('NP', 'VP')\n",
      "2.240354308913088\n",
      "2.171295484854257\n",
      "('IN', 'NP')\n",
      "0.934241253487881\n",
      "0.8921059268600275\n",
      "('NP', 'S')\n",
      "3.3991421291053214\n",
      "3.141895386423751\n",
      "('DT', 'NN')\n",
      "0.9458671742808836\n",
      "0.7395693779904304\n",
      "('NP', 'PP')\n",
      "1.5384819387288537\n",
      "1.4214528985507275\n"
     ]
    }
   ],
   "source": [
    "print_pair_diff(('NP', 'VP'))\n",
    "print_pair_diff(('IN', 'NP'))\n",
    "print_pair_diff(('NP', 'S'))\n",
    "print_pair_diff(('DT', 'NN'))\n",
    "print_pair_diff(('NP', 'PP'))"
   ]
  },
  {
   "cell_type": "code",
   "execution_count": 26,
   "metadata": {
    "collapsed": true
   },
   "outputs": [],
   "source": [
    "def get_means(pairs_list):\n",
    "    sa_list = []\n",
    "    ns_list = []\n",
    "    name_list = []\n",
    "    for pair in pairs_list:\n",
    "        sa_list.append(float(sa_pair_sum_dict[pair] / sa_pair_dict[pair]))\n",
    "        ns_list.append(float(ns_pair_sum_dict[pair] / ns_pair_dict[pair]))\n",
    "        name_list.append(\"(\" + pair[0] + \",\" + pair[1] + \")\")\n",
    "    return (sa_list, ns_list, name_list)\n"
   ]
  },
  {
   "cell_type": "code",
   "execution_count": 37,
   "metadata": {},
   "outputs": [
    {
     "data": {
      "text/plain": [
       "<matplotlib.figure.Figure at 0x1987a20f710>"
      ]
     },
     "metadata": {},
     "output_type": "display_data"
    },
    {
     "data": {
      "image/png": "[encoded data removed]",
      "text/plain": [
       "<matplotlib.figure.Figure at 0x19879868908>"
      ]
     },
     "metadata": {},
     "output_type": "display_data"
    },
    {
     "data": {
      "image/png": "[encoded data removed]",
      "text/plain": [
       "<matplotlib.figure.Figure at 0x19879834908>"
      ]
     },
     "metadata": {},
     "output_type": "display_data"
    }
   ],
   "source": [
    "import numpy as np\n",
    "import matplotlib.pyplot as plt\n",
    "\n",
    "pairs_list = [('NP', 'VP'), ('IN', 'NP'), ('NP', 'S'), ('DT', 'NN'), ('NP', 'PP')]\n",
    "sa_list, ns_list, name_list = get_means(pairs_list)\n",
    "\n",
    "N = 5\n",
    "\n",
    "ind = np.arange(N)  # the x locations for the groups\n",
    "width = 0.35       # the width of the bars\n",
    "\n",
    "fig, ax = plt.subplots()\n",
    "rects1 = ax.bar(ind, sa_list, width, color='r')\n",
    "\n",
    "rects2 = ax.bar(ind + width, ns_list, width, color='y')\n",
    "\n",
    "# add some text for labels, title and axes ticks\n",
    "ax.set_ylabel('Average Difference')\n",
    "ax.set_title('Average Difference for Syntactic Category Labels')\n",
    "ax.set_xticks(ind + width / 2)\n",
    "ax.set_xticklabels(name_list)\n",
    "\n",
    "ax.legend((rects1[0], rects2[0]), ('Sarcasm', 'Non-Sarcasm'))\n",
    "\n",
    "\n",
    "plt.show()\n",
    "#plt.savefig('books_read.png')"
   ]
  },
  {
   "cell_type": "code",
   "execution_count": null,
   "metadata": {
    "collapsed": true
   },
   "outputs": [],
   "source": []
  }
 ],
 "metadata": {
  "kernelspec": {
   "display_name": "Python 3",
   "language": "python",
   "name": "python3"
  },
  "language_info": {
   "codemirror_mode": {
    "name": "ipython",
    "version": 3
   },
   "file_extension": ".py",
   "mimetype": "text/x-python",
   "name": "python",
   "nbconvert_exporter": "python",
   "pygments_lexer": "ipython3",
   "version": "3.6.3"
  }
 },
 "nbformat": 4,
 "nbformat_minor": 2
}
